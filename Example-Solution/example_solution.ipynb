{
 "cells": [
  {
   "cell_type": "markdown",
   "metadata": {},
   "source": [
    "**THE CONSIDITION 2019 - EXAMPLE SOLUTION**"
   ]
  },
  {
   "cell_type": "markdown",
   "metadata": {},
   "source": [
    "This notebook serves as a simple starting point for **The Considition 2019** programming competition. It is a modified version of https://nbviewer.jupyter.org/github/fastai/course-v3/blob/master/nbs/dl1/lesson3-camvid.ipynb, from the free fast.ai course *Practical Deep Learning for Coders, v3*."
   ]
  },
  {
   "cell_type": "code",
   "execution_count": null,
   "metadata": {
    "colab": {},
    "colab_type": "code",
    "id": "4_9S7spd_Iwf"
   },
   "outputs": [],
   "source": [
    "%reload_ext autoreload\n",
    "%autoreload 2\n",
    "%matplotlib inline"
   ]
  },
  {
   "cell_type": "code",
   "execution_count": null,
   "metadata": {
    "colab": {},
    "colab_type": "code",
    "id": "IK1kEdqt_FEO"
   },
   "outputs": [],
   "source": [
    "from fastai.vision import *\n",
    "from fastai.callbacks.hooks import *"
   ]
  },
  {
   "cell_type": "code",
   "execution_count": null,
   "metadata": {
    "colab": {},
    "colab_type": "code",
    "id": "GXAxiuqHADfP"
   },
   "outputs": [],
   "source": [
    "# download training set from https://theconsidition.se/rules and insert path here\n",
    "path = Path('/PATH/TO/TRAINING_DATASET') "
   ]
  },
  {
   "cell_type": "code",
   "execution_count": null,
   "metadata": {},
   "outputs": [],
   "source": [
    "# You might need to pre-process masks here for the model to correctly interpret/classify them\n",
    "# Any other pre-processing of the dataset you want to do should also go here"
   ]
  },
  {
   "cell_type": "code",
   "execution_count": null,
   "metadata": {
    "colab": {},
    "colab_type": "code",
    "id": "L67vYYD6BA2W"
   },
   "outputs": [],
   "source": [
    "# set paths to training images and masks\n",
    "path_lbl = path/'Masks/all'\n",
    "path_img = path/'Images'"
   ]
  },
  {
   "cell_type": "code",
   "execution_count": null,
   "metadata": {
    "colab": {},
    "colab_type": "code",
    "id": "oz-y9zOrEE8P",
    "scrolled": true
   },
   "outputs": [],
   "source": [
    "# list paths to some training images\n",
    "fnames = get_image_files(path_img)\n",
    "fnames[:3]"
   ]
  },
  {
   "cell_type": "code",
   "execution_count": null,
   "metadata": {
    "colab": {},
    "colab_type": "code",
    "id": "5Pp2joHDEirs"
   },
   "outputs": [],
   "source": [
    "# list paths to some training masks\n",
    "lbl_names = get_image_files(path_lbl)\n",
    "lbl_names[:3]"
   ]
  },
  {
   "cell_type": "code",
   "execution_count": null,
   "metadata": {
    "colab": {},
    "colab_type": "code",
    "id": "dMZ3uewkEtYL"
   },
   "outputs": [],
   "source": [
    "# show a training image\n",
    "img_f = fnames[0]\n",
    "img = open_image(img_f)\n",
    "img.show(figsize=(5,5))"
   ]
  },
  {
   "cell_type": "code",
   "execution_count": null,
   "metadata": {
    "colab": {},
    "colab_type": "code",
    "id": "i0YRugZGExTT"
   },
   "outputs": [],
   "source": [
    "# helper function to get the corresponding mask path of a training image\n",
    "get_y_fn = lambda x: path_lbl/f'{x.stem}.png'"
   ]
  },
  {
   "cell_type": "code",
   "execution_count": null,
   "metadata": {
    "colab": {},
    "colab_type": "code",
    "id": "kgyhLZ1uE4qJ"
   },
   "outputs": [],
   "source": [
    "# show the mask\n",
    "mask = open_mask(get_y_fn(img_f))\n",
    "mask.show(figsize=(5,5), alpha=1)"
   ]
  },
  {
   "cell_type": "code",
   "execution_count": null,
   "metadata": {
    "colab": {},
    "colab_type": "code",
    "id": "--qUBQWHPQm_"
   },
   "outputs": [],
   "source": [
    "# create an indexed list, where the index of each label corresponds to the pixel values of the masks\n",
    "codelist = ['Background', 'Water', 'Building', 'Road']\n",
    "codes = np.asarray(codelist); codes"
   ]
  },
  {
   "cell_type": "code",
   "execution_count": null,
   "metadata": {
    "colab": {},
    "colab_type": "code",
    "id": "Z10VGMq2Rejn"
   },
   "outputs": [],
   "source": [
    "# create the data object\n",
    "data = (SegmentationItemList.from_folder(path_img)\n",
    "        .split_by_rand_pct()\n",
    "        .label_from_func(get_y_fn, classes=codes)\n",
    "        .transform(get_transforms(), size=128)\n",
    "        .databunch(bs=4, num_workers=0)\n",
    "        .normalize(imagenet_stats))"
   ]
  },
  {
   "cell_type": "code",
   "execution_count": null,
   "metadata": {
    "colab": {},
    "colab_type": "code",
    "id": "xyktr8SBSqFh"
   },
   "outputs": [],
   "source": [
    "# show some masks superimposed on their respective images\n",
    "data.show_batch(2, figsize=(10,7))"
   ]
  },
  {
   "cell_type": "code",
   "execution_count": null,
   "metadata": {
    "colab": {},
    "colab_type": "code",
    "id": "1HeOkp8GSvFx"
   },
   "outputs": [],
   "source": [
    "data.show_batch(2, figsize=(10,7), ds_type=DatasetType.Valid)"
   ]
  },
  {
   "cell_type": "code",
   "execution_count": null,
   "metadata": {
    "colab": {},
    "colab_type": "code",
    "id": "3qfBA59xUZ51"
   },
   "outputs": [],
   "source": [
    "# create a learner using the Unet architecture. Model pretrained on ImageNet\n",
    "learn = unet_learner(data, models.resnet18, wd=1e-2, metrics=accuracy_thresh)"
   ]
  },
  {
   "cell_type": "code",
   "execution_count": null,
   "metadata": {
    "colab": {},
    "colab_type": "code",
    "id": "lUWcff5SVSlO"
   },
   "outputs": [],
   "source": [
    "# show some predictions from your current model, next to the ground-truth masks\n",
    "learn.show_results()"
   ]
  },
  {
   "cell_type": "code",
   "execution_count": null,
   "metadata": {},
   "outputs": [],
   "source": [
    "# TODO: Your model is now ready to be trained on your training dataset\n",
    "# to further improve its performance for the competition!"
   ]
  },
  {
   "cell_type": "code",
   "execution_count": null,
   "metadata": {
    "colab": {},
    "colab_type": "code",
    "id": "azqeR3BK-baU"
   },
   "outputs": [],
   "source": [
    "# save your model's current state\n",
    "learn.save(path/'model')"
   ]
  },
  {
   "cell_type": "code",
   "execution_count": null,
   "metadata": {},
   "outputs": [],
   "source": [
    "# export your learner/model, so it can be used for inference in other applications\n",
    "learn.export(path/'model.pkl')"
   ]
  }
 ],
 "metadata": {
  "accelerator": "GPU",
  "colab": {
   "name": "fastai unet.ipynb",
   "provenance": [],
   "version": "0.3.2"
  },
  "kernelspec": {
   "display_name": "Python 3",
   "language": "python",
   "name": "python3"
  },
  "language_info": {
   "codemirror_mode": {
    "name": "ipython",
    "version": 3
   },
   "file_extension": ".py",
   "mimetype": "text/x-python",
   "name": "python",
   "nbconvert_exporter": "python",
   "pygments_lexer": "ipython3",
   "version": "3.6.8"
  }
 },
 "nbformat": 4,
 "nbformat_minor": 1
}
